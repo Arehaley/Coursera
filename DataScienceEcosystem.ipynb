{
 "cells": [
  {
   "cell_type": "markdown",
   "id": "4953cede-0005-4e1b-b88b-fac02e18e7d8",
   "metadata": {},
   "source": [
    "<h1>Data Science Tools and Ecosystem<h1>"
   ]
  },
  {
   "cell_type": "markdown",
   "id": "ffe9efc8-51a9-431c-a7e0-a8d59163996d",
   "metadata": {},
   "source": [
    "In this notebook, Data Science Tools and Ecosystem are summarized."
   ]
  },
  {
   "cell_type": "markdown",
   "id": "bf629edf-d68e-42e9-bdf3-3c63f5911529",
   "metadata": {},
   "source": [
    "**Objectives:**\n",
    "\n",
    "- Understand key concepts of Data Science.\n",
    "- List popular languages for Data Science.\n",
    "- Explain the role of libraries in Python for Data Science.\n",
    "- Evaluate basic arithmetic expressions in Python."
   ]
  },
  {
   "cell_type": "markdown",
   "id": "b416c4d5-650d-4ea9-90f5-84bb7a7d3c4d",
   "metadata": {},
   "source": [
    "Some of the popular languages that Data Scientists use are:\n",
    "1. Python\n",
    "2. SQL\n",
    "3. R\n",
    "4. Java \n",
    "5. JavaScript"
   ]
  },
  {
   "cell_type": "markdown",
   "id": "c5b60ae9-e8d4-4d85-99b8-156fbee5041e",
   "metadata": {},
   "source": [
    "Some of the commonly used libraries used by Data Scientists include:\n",
    "1. NumPy\n",
    "2. Pandas\n",
    "3. Matplotlib\n",
    "4. Seaborn\n",
    "5. Plotly"
   ]
  },
  {
   "cell_type": "markdown",
   "id": "e1c22e1f-e972-442a-bc7e-fe4e9dfadb24",
   "metadata": {},
   "source": [
    "| Data Science Tools |\n",
    "| ------------------ |\n",
    "| Hadoop |\n",
    "| Spark |\n",
    "| Pandas |"
   ]
  },
  {
   "cell_type": "markdown",
   "id": "7b0836e4-3015-45c4-995f-e0984ece9b72",
   "metadata": {},
   "source": [
    "## Below are a few examples of evaluating arithmetic expressions in Python"
   ]
  },
  {
   "cell_type": "code",
   "execution_count": 2,
   "id": "d2074b33-2469-4789-b92e-e1382dbc4618",
   "metadata": {
    "tags": []
   },
   "outputs": [
    {
     "data": {
      "text/plain": [
       "17"
      ]
     },
     "execution_count": 2,
     "metadata": {},
     "output_type": "execute_result"
    }
   ],
   "source": [
    "# This a simple arithmetic expression to mutiply then add integers\n",
    "(3*4)+5"
   ]
  },
  {
   "cell_type": "code",
   "execution_count": 3,
   "id": "f4c8e0e1-5ea1-4ae6-b992-2e182e0d18c3",
   "metadata": {
    "tags": []
   },
   "outputs": [
    {
     "data": {
      "text/plain": [
       "3.3333333333333335"
      ]
     },
     "execution_count": 3,
     "metadata": {},
     "output_type": "execute_result"
    }
   ],
   "source": [
    "# This will convert 200 minutes to hours by diving by 60\n",
    "200 / 60"
   ]
  },
  {
   "cell_type": "markdown",
   "id": "b1f3c07a-4af9-4364-ab2b-931f6659b060",
   "metadata": {},
   "source": [
    "## Author \n",
    "Ryan Haley"
   ]
  },
  {
   "cell_type": "code",
   "execution_count": null,
   "id": "59828350-8460-46b5-b730-e6f239ac8a76",
   "metadata": {},
   "outputs": [],
   "source": []
  }
 ],
 "metadata": {
  "kernelspec": {
   "display_name": "Python",
   "language": "python",
   "name": "conda-env-python-py"
  },
  "language_info": {
   "codemirror_mode": {
    "name": "ipython",
    "version": 3
   },
   "file_extension": ".py",
   "mimetype": "text/x-python",
   "name": "python",
   "nbconvert_exporter": "python",
   "pygments_lexer": "ipython3",
   "version": "3.7.12"
  }
 },
 "nbformat": 4,
 "nbformat_minor": 5
}
